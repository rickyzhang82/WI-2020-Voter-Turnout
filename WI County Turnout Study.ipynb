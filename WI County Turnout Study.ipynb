{
 "cells": [
  {
   "cell_type": "code",
   "execution_count": 132,
   "metadata": {},
   "outputs": [],
   "source": [
    "import numpy as np\n",
    "import pandas as pd\n",
    "import math\n",
    "import os.path\n",
    "import json\n",
    "import time"
   ]
  },
  {
   "cell_type": "code",
   "execution_count": 133,
   "metadata": {},
   "outputs": [],
   "source": [
    "DATA_ROOT_PATH = '/src/data/wi-voting'\n",
    "WI_COUNTY_TURNOUT = 'WI-county.json'\n",
    "WI_COUNTY_REG_VOTER = 'RegisteredVotersByCounty_11-01-2020.csv'\n",
    "COUNTY_FISP = 'county_fips_master.csv'"
   ]
  },
  {
   "cell_type": "code",
   "execution_count": 134,
   "metadata": {},
   "outputs": [],
   "source": [
    "reg_voter_df =  pd.read_csv(os.path.join(DATA_ROOT_PATH, WI_COUNTY_REG_VOTER), encoding='us-ascii')"
   ]
  },
  {
   "cell_type": "code",
   "execution_count": 135,
   "metadata": {},
   "outputs": [
    {
     "data": {
      "text/html": [
       "<div>\n",
       "<style scoped>\n",
       "    .dataframe tbody tr th:only-of-type {\n",
       "        vertical-align: middle;\n",
       "    }\n",
       "\n",
       "    .dataframe tbody tr th {\n",
       "        vertical-align: top;\n",
       "    }\n",
       "\n",
       "    .dataframe thead th {\n",
       "        text-align: right;\n",
       "    }\n",
       "</style>\n",
       "<table border=\"1\" class=\"dataframe\">\n",
       "  <thead>\n",
       "    <tr style=\"text-align: right;\">\n",
       "      <th></th>\n",
       "      <th>CountyCode</th>\n",
       "      <th>County</th>\n",
       "      <th>Registered Voters</th>\n",
       "    </tr>\n",
       "  </thead>\n",
       "  <tbody>\n",
       "    <tr>\n",
       "      <th>0</th>\n",
       "      <td>1</td>\n",
       "      <td>ADAMS COUNTY</td>\n",
       "      <td>12805</td>\n",
       "    </tr>\n",
       "    <tr>\n",
       "      <th>1</th>\n",
       "      <td>2</td>\n",
       "      <td>ASHLAND COUNTY</td>\n",
       "      <td>9770</td>\n",
       "    </tr>\n",
       "    <tr>\n",
       "      <th>2</th>\n",
       "      <td>3</td>\n",
       "      <td>BARRON COUNTY</td>\n",
       "      <td>27632</td>\n",
       "    </tr>\n",
       "  </tbody>\n",
       "</table>\n",
       "</div>"
      ],
      "text/plain": [
       "   CountyCode          County  Registered Voters\n",
       "0           1    ADAMS COUNTY              12805\n",
       "1           2  ASHLAND COUNTY               9770\n",
       "2           3   BARRON COUNTY              27632"
      ]
     },
     "execution_count": 135,
     "metadata": {},
     "output_type": "execute_result"
    }
   ],
   "source": [
    "reg_voter_df['Registered Voters'] = reg_voter_df['Registered Voters'].apply(int)\n",
    "reg_voter_df.head(3)"
   ]
  },
  {
   "cell_type": "code",
   "execution_count": 136,
   "metadata": {},
   "outputs": [
    {
     "data": {
      "text/plain": [
       "CountyCode            int64\n",
       "County               object\n",
       "Registered Voters     int64\n",
       "dtype: object"
      ]
     },
     "execution_count": 136,
     "metadata": {},
     "output_type": "execute_result"
    }
   ],
   "source": [
    "reg_voter_df.dtypes"
   ]
  },
  {
   "cell_type": "code",
   "execution_count": 137,
   "metadata": {},
   "outputs": [],
   "source": [
    "# file -i county_fips_master.csv \n",
    "# county_fips_master.csv: application/csv; charset=iso-8859-1\n",
    "\n",
    "fips_df =  pd.read_csv(os.path.join(DATA_ROOT_PATH, COUNTY_FISP), encoding='iso-8859-1')"
   ]
  },
  {
   "cell_type": "code",
   "execution_count": 138,
   "metadata": {},
   "outputs": [
    {
     "data": {
      "text/html": [
       "<div>\n",
       "<style scoped>\n",
       "    .dataframe tbody tr th:only-of-type {\n",
       "        vertical-align: middle;\n",
       "    }\n",
       "\n",
       "    .dataframe tbody tr th {\n",
       "        vertical-align: top;\n",
       "    }\n",
       "\n",
       "    .dataframe thead th {\n",
       "        text-align: right;\n",
       "    }\n",
       "</style>\n",
       "<table border=\"1\" class=\"dataframe\">\n",
       "  <thead>\n",
       "    <tr style=\"text-align: right;\">\n",
       "      <th></th>\n",
       "      <th>fips</th>\n",
       "      <th>county_name</th>\n",
       "      <th>state_abbr</th>\n",
       "      <th>state_name</th>\n",
       "      <th>long_name</th>\n",
       "      <th>sumlev</th>\n",
       "      <th>region</th>\n",
       "      <th>division</th>\n",
       "      <th>state</th>\n",
       "      <th>county</th>\n",
       "      <th>crosswalk</th>\n",
       "      <th>region_name</th>\n",
       "      <th>division_name</th>\n",
       "    </tr>\n",
       "  </thead>\n",
       "  <tbody>\n",
       "    <tr>\n",
       "      <th>0</th>\n",
       "      <td>1001</td>\n",
       "      <td>Autauga County</td>\n",
       "      <td>AL</td>\n",
       "      <td>Alabama</td>\n",
       "      <td>Autauga County AL</td>\n",
       "      <td>50.0</td>\n",
       "      <td>3.0</td>\n",
       "      <td>6.0</td>\n",
       "      <td>1.0</td>\n",
       "      <td>1.0</td>\n",
       "      <td>3-6-1-1</td>\n",
       "      <td>South</td>\n",
       "      <td>East South Central</td>\n",
       "    </tr>\n",
       "    <tr>\n",
       "      <th>1</th>\n",
       "      <td>1003</td>\n",
       "      <td>Baldwin County</td>\n",
       "      <td>AL</td>\n",
       "      <td>Alabama</td>\n",
       "      <td>Baldwin County AL</td>\n",
       "      <td>50.0</td>\n",
       "      <td>3.0</td>\n",
       "      <td>6.0</td>\n",
       "      <td>1.0</td>\n",
       "      <td>3.0</td>\n",
       "      <td>3-6-1-3</td>\n",
       "      <td>South</td>\n",
       "      <td>East South Central</td>\n",
       "    </tr>\n",
       "    <tr>\n",
       "      <th>2</th>\n",
       "      <td>1005</td>\n",
       "      <td>Barbour County</td>\n",
       "      <td>AL</td>\n",
       "      <td>Alabama</td>\n",
       "      <td>Barbour County AL</td>\n",
       "      <td>50.0</td>\n",
       "      <td>3.0</td>\n",
       "      <td>6.0</td>\n",
       "      <td>1.0</td>\n",
       "      <td>5.0</td>\n",
       "      <td>3-6-1-5</td>\n",
       "      <td>South</td>\n",
       "      <td>East South Central</td>\n",
       "    </tr>\n",
       "  </tbody>\n",
       "</table>\n",
       "</div>"
      ],
      "text/plain": [
       "   fips     county_name state_abbr state_name          long_name  sumlev  \\\n",
       "0  1001  Autauga County         AL    Alabama  Autauga County AL    50.0   \n",
       "1  1003  Baldwin County         AL    Alabama  Baldwin County AL    50.0   \n",
       "2  1005  Barbour County         AL    Alabama  Barbour County AL    50.0   \n",
       "\n",
       "   region  division  state  county crosswalk region_name       division_name  \n",
       "0     3.0       6.0    1.0     1.0   3-6-1-1       South  East South Central  \n",
       "1     3.0       6.0    1.0     3.0   3-6-1-3       South  East South Central  \n",
       "2     3.0       6.0    1.0     5.0   3-6-1-5       South  East South Central  "
      ]
     },
     "execution_count": 138,
     "metadata": {},
     "output_type": "execute_result"
    }
   ],
   "source": [
    "fips_df.head(3)"
   ]
  },
  {
   "cell_type": "code",
   "execution_count": 139,
   "metadata": {},
   "outputs": [
    {
     "data": {
      "text/plain": [
       "fips               int64\n",
       "county_name       object\n",
       "state_abbr        object\n",
       "state_name        object\n",
       "long_name         object\n",
       "sumlev           float64\n",
       "region           float64\n",
       "division         float64\n",
       "state            float64\n",
       "county           float64\n",
       "crosswalk         object\n",
       "region_name       object\n",
       "division_name     object\n",
       "dtype: object"
      ]
     },
     "execution_count": 139,
     "metadata": {},
     "output_type": "execute_result"
    }
   ],
   "source": [
    "fips_df.dtypes"
   ]
  },
  {
   "cell_type": "code",
   "execution_count": 140,
   "metadata": {},
   "outputs": [],
   "source": [
    "with open(os.path.join(DATA_ROOT_PATH, WI_COUNTY_TURNOUT)) as f:\n",
    "    wi_county_map = json.load(f)\n",
    "    turnout_map = wi_county_map['data']\n",
    "    "
   ]
  },
  {
   "cell_type": "code",
   "execution_count": 141,
   "metadata": {},
   "outputs": [
    {
     "name": "stdout",
     "output_type": "stream",
     "text": [
      "{'55001': {'unit': '55001', 'ts': '2020-11-06T00:29:38.960Z', 'pr': 20, 'tp': 20, 'tv': 11806, 'cand': [{'fname': 'Donald', 'name': 'Trump', 'party': 'gop', 'votes': 7362, 'inc': True}, {'fname': 'Joe', 'name': 'Biden', 'party': 'dem', 'votes': 4329, 'winner': 'X'}, {'fname': 'Jo', 'name': 'Jorgensen', 'party': 'lib', 'votes': 85}, {'fname': 'Don', 'name': 'Blankenship', 'party': 'cst', 'votes': 27}, {'fname': 'Brian', 'name': 'Carroll', 'party': 'asp', 'votes': 3}], 'status': 'R'}, '55003': {'unit': '55003', 'ts': '2020-11-06T00:29:38.960Z', 'pr': 17, 'tp': 17, 'tv': 8728, 'cand': [{'fname': 'Joe', 'name': 'Biden', 'party': 'dem', 'votes': 4794, 'winner': 'X'}, {'fname': 'Donald', 'name': 'Trump', 'party': 'gop', 'votes': 3845, 'inc': True}, {'fname': 'Jo', 'name': 'Jorgensen', 'party': 'lib', 'votes': 67}, {'fname': 'Don', 'name': 'Blankenship', 'party': 'cst', 'votes': 11}, {'fname': 'Brian', 'name': 'Carroll', 'party': 'asp', 'votes': 11}], 'status': 'D'}, '55005': {'unit': '55005', 'ts': '2020-11-06T00:29:38.960Z', 'pr': 36, 'tp': 36, 'tv': 25316, 'cand': [{'fname': 'Donald', 'name': 'Trump', 'party': 'gop', 'votes': 15803, 'inc': True}, {'fname': 'Joe', 'name': 'Biden', 'party': 'dem', 'votes': 9194, 'winner': 'X'}, {'fname': 'Jo', 'name': 'Jorgensen', 'party': 'lib', 'votes': 262}, {'fname': 'Don', 'name': 'Blankenship', 'party': 'cst', 'votes': 37}, {'fname': 'Brian', 'name': 'Carroll', 'party': 'asp', 'votes': 20}], 'status': 'R'}, '55007': {'unit': '55007', 'ts': '2020-11-06T00:29:38.960Z', 'pr': 28, 'tp': 28, 'tv': 10876, 'cand': [{'fname': 'Joe', 'name': 'Biden', 'party': 'dem', 'votes': 6155, 'winner': 'X'}, {'fname': 'Donald', 'name': 'Trump', 'party': 'gop', 'votes': 4617, 'inc': True}, {'fname': 'Jo', 'name': 'Jorgensen', 'party': 'lib', 'votes': 80}, {'fname': 'Brian', 'name': 'Carroll', 'party': 'asp', 'votes': 13}, {'fname': 'Don', 'name': 'Blankenship', 'party': 'cst', 'votes': 11}], 'status': 'D'}, '55009': {'unit': '55009', 'ts': '2020-11-06T00:29:38.960Z', 'pr': 95, 'tp': 95, 'tv': 143623, 'cand': [{'fname': 'Donald', 'name': 'Trump', 'party': 'gop', 'votes': 75865, 'inc': True}, {'fname': 'Joe', 'name': 'Biden', 'party': 'dem', 'votes': 65509, 'winner': 'X'}, {'fname': 'Jo', 'name': 'Jorgensen', 'party': 'lib', 'votes': 1829}, {'fname': 'Don', 'name': 'Blankenship', 'party': 'cst', 'votes': 215}, {'fname': 'Brian', 'name': 'Carroll', 'party': 'asp', 'votes': 205}], 'status': 'R'}, '55011': {'unit': '55011', 'ts': '2020-11-06T00:29:38.960Z', 'pr': 23, 'tp': 23, 'tv': 7798, 'cand': [{'fname': 'Donald', 'name': 'Trump', 'party': 'gop', 'votes': 4834, 'inc': True}, {'fname': 'Joe', 'name': 'Biden', 'party': 'dem', 'votes': 2859, 'winner': 'X'}, {'fname': 'Jo', 'name': 'Jorgensen', 'party': 'lib', 'votes': 75}, {'fname': 'Don', 'name': 'Blankenship', 'party': 'cst', 'votes': 20}, {'fname': 'Brian', 'name': 'Carroll', 'party': 'asp', 'votes': 10}], 'status': 'R'}, '55013': {'unit': '55013', 'ts': '2020-11-06T00:29:38.960Z', 'pr': 24, 'tp': 24, 'tv': 10138, 'cand': [{'fname': 'Donald', 'name': 'Trump', 'party': 'gop', 'votes': 6461, 'inc': True}, {'fname': 'Joe', 'name': 'Biden', 'party': 'dem', 'votes': 3569, 'winner': 'X'}, {'fname': 'Jo', 'name': 'Jorgensen', 'party': 'lib', 'votes': 86}, {'fname': 'Don', 'name': 'Blankenship', 'party': 'cst', 'votes': 13}, {'fname': 'Brian', 'name': 'Carroll', 'party': 'asp', 'votes': 9}], 'status': 'R'}, '55015': {'unit': '55015', 'ts': '2020-11-06T00:29:38.960Z', 'pr': 32, 'tp': 32, 'tv': 30797, 'cand': [{'fname': 'Donald', 'name': 'Trump', 'party': 'gop', 'votes': 18142, 'inc': True}, {'fname': 'Joe', 'name': 'Biden', 'party': 'dem', 'votes': 12115, 'winner': 'X'}, {'fname': 'Jo', 'name': 'Jorgensen', 'party': 'lib', 'votes': 363}, {'fname': 'Don', 'name': 'Blankenship', 'party': 'cst', 'votes': 102}, {'fname': 'Brian', 'name': 'Carroll', 'party': 'asp', 'votes': 75}], 'status': 'R'}, '55017': {'unit': '55017', 'ts': '2020-11-06T00:29:38.960Z', 'pr': 47, 'tp': 47, 'tv': 35908, 'cand': [{'fname': 'Donald', 'name': 'Trump', 'party': 'gop', 'votes': 21316, 'inc': True}, {'fname': 'Joe', 'name': 'Biden', 'party': 'dem', 'votes': 14001, 'winner': 'X'}, {'fname': 'Jo', 'name': 'Jorgensen', 'party': 'lib', 'votes': 487}, {'fname': 'Don', 'name': 'Blankenship', 'party': 'cst', 'votes': 60}, {'fname': 'Brian', 'name': 'Carroll', 'party': 'asp', 'votes': 44}], 'status': 'R'}, '55019': {'unit': '55019', 'ts': '2020-11-06T00:29:38.960Z', 'pr': 50, 'tp': 50, 'tv': 14866, 'cand': [{'fname': 'Donald', 'name': 'Trump', 'party': 'gop', 'votes': 10001, 'inc': True}, {'fname': 'Joe', 'name': 'Biden', 'party': 'dem', 'votes': 4520, 'winner': 'X'}, {'fname': 'Jo', 'name': 'Jorgensen', 'party': 'lib', 'votes': 167}, {'fname': 'Brian', 'name': 'Carroll', 'party': 'asp', 'votes': 147}, {'fname': 'Don', 'name': 'Blankenship', 'party': 'cst', 'votes': 31}], 'status': 'R'}, '55021': {'unit': '55021', 'ts': '2020-11-06T00:29:38.960Z', 'pr': 40, 'tp': 40, 'tv': 33847, 'cand': [{'fname': 'Donald', 'name': 'Trump', 'party': 'gop', 'votes': 16925, 'inc': True}, {'fname': 'Joe', 'name': 'Biden', 'party': 'dem', 'votes': 16408, 'winner': 'X'}, {'fname': 'Jo', 'name': 'Jorgensen', 'party': 'lib', 'votes': 421}, {'fname': 'Don', 'name': 'Blankenship', 'party': 'cst', 'votes': 61}, {'fname': 'Brian', 'name': 'Carroll', 'party': 'asp', 'votes': 32}], 'status': 'R'}, '55023': {'unit': '55023', 'ts': '2020-11-06T00:29:38.960Z', 'pr': 27, 'tp': 27, 'tv': 8695, 'cand': [{'fname': 'Donald', 'name': 'Trump', 'party': 'gop', 'votes': 4620, 'inc': True}, {'fname': 'Joe', 'name': 'Biden', 'party': 'dem', 'votes': 3953, 'winner': 'X'}, {'fname': 'Jo', 'name': 'Jorgensen', 'party': 'lib', 'votes': 92}, {'fname': 'Don', 'name': 'Blankenship', 'party': 'cst', 'votes': 18}, {'fname': 'Brian', 'name': 'Carroll', 'party': 'asp', 'votes': 12}], 'status': 'R'}, '55025': {'unit': '55025', 'ts': '2020-11-06T00:29:38.960Z', 'pr': 253, 'tp': 253, 'tv': 343599, 'cand': [{'fname': 'Joe', 'name': 'Biden', 'party': 'dem', 'votes': 260157, 'winner': 'X'}, {'fname': 'Donald', 'name': 'Trump', 'party': 'gop', 'votes': 78789, 'inc': True}, {'fname': 'Jo', 'name': 'Jorgensen', 'party': 'lib', 'votes': 3666}, {'fname': 'Brian', 'name': 'Carroll', 'party': 'asp', 'votes': 583}, {'fname': 'Don', 'name': 'Blankenship', 'party': 'cst', 'votes': 404}], 'status': 'D'}, '55027': {'unit': '55027', 'ts': '2020-11-06T00:29:38.960Z', 'pr': 61, 'tp': 61, 'tv': 48415, 'cand': [{'fname': 'Donald', 'name': 'Trump', 'party': 'gop', 'votes': 31354, 'inc': True}, {'fname': 'Joe', 'name': 'Biden', 'party': 'dem', 'votes': 16355, 'winner': 'X'}, {'fname': 'Jo', 'name': 'Jorgensen', 'party': 'lib', 'votes': 535}, {'fname': 'Don', 'name': 'Blankenship', 'party': 'cst', 'votes': 90}, {'fname': 'Brian', 'name': 'Carroll', 'party': 'asp', 'votes': 81}], 'status': 'R'}, '55029': {'unit': '55029', 'ts': '2020-11-06T00:29:38.960Z', 'pr': 21, 'tp': 21, 'tv': 20076, 'cand': [{'fname': 'Joe', 'name': 'Biden', 'party': 'dem', 'votes': 10044, 'winner': 'X'}, {'fname': 'Donald', 'name': 'Trump', 'party': 'gop', 'votes': 9752, 'inc': True}, {'fname': 'Jo', 'name': 'Jorgensen', 'party': 'lib', 'votes': 231}, {'fname': 'Don', 'name': 'Blankenship', 'party': 'cst', 'votes': 27}, {'fname': 'Brian', 'name': 'Carroll', 'party': 'asp', 'votes': 22}], 'status': 'D'}, '55031': {'unit': '55031', 'ts': '2020-11-06T00:29:38.960Z', 'pr': 26, 'tp': 26, 'tv': 24595, 'cand': [{'fname': 'Joe', 'name': 'Biden', 'party': 'dem', 'votes': 13214, 'winner': 'X'}, {'fname': 'Donald', 'name': 'Trump', 'party': 'gop', 'votes': 10919, 'inc': True}, {'fname': 'Jo', 'name': 'Jorgensen', 'party': 'lib', 'votes': 379}, {'fname': 'Don', 'name': 'Blankenship', 'party': 'cst', 'votes': 42}, {'fname': 'Brian', 'name': 'Carroll', 'party': 'asp', 'votes': 41}], 'status': 'D'}, '55033': {'unit': '55033', 'ts': '2020-11-06T00:29:38.960Z', 'pr': 36, 'tp': 36, 'tv': 23526, 'cand': [{'fname': 'Donald', 'name': 'Trump', 'party': 'gop', 'votes': 13176, 'inc': True}, {'fname': 'Joe', 'name': 'Biden', 'party': 'dem', 'votes': 9909, 'winner': 'X'}, {'fname': 'Jo', 'name': 'Jorgensen', 'party': 'lib', 'votes': 369}, {'fname': 'Don', 'name': 'Blankenship', 'party': 'cst', 'votes': 44}, {'fname': 'Brian', 'name': 'Carroll', 'party': 'asp', 'votes': 28}], 'status': 'R'}, '55035': {'unit': '55035', 'ts': '2020-11-06T00:29:38.960Z', 'pr': 95, 'tp': 95, 'tv': 58069, 'cand': [{'fname': 'Joe', 'name': 'Biden', 'party': 'dem', 'votes': 31617, 'winner': 'X'}, {'fname': 'Donald', 'name': 'Trump', 'party': 'gop', 'votes': 25339, 'inc': True}, {'fname': 'Jo', 'name': 'Jorgensen', 'party': 'lib', 'votes': 925}, {'fname': 'Don', 'name': 'Blankenship', 'party': 'cst', 'votes': 97}, {'fname': 'Brian', 'name': 'Carroll', 'party': 'asp', 'votes': 91}], 'status': 'D'}, '55037': {'unit': '55037', 'ts': '2020-11-06T00:29:38.960Z', 'pr': 8, 'tp': 8, 'tv': 2939, 'cand': [{'fname': 'Donald', 'name': 'Trump', 'party': 'gop', 'votes': 2133, 'inc': True}, {'fname': 'Joe', 'name': 'Biden', 'party': 'dem', 'votes': 781, 'winner': 'X'}, {'fname': 'Jo', 'name': 'Jorgensen', 'party': 'lib', 'votes': 21}, {'fname': 'Don', 'name': 'Blankenship', 'party': 'cst', 'votes': 4}, {'fname': 'Brian', 'name': 'Carroll', 'party': 'asp', 'votes': 0}], 'status': 'R'}, '55039': {'unit': '55039', 'ts': '2020-11-06T00:29:38.960Z', 'pr': 68, 'tp': 68, 'tv': 57193, 'cand': [{'fname': 'Donald', 'name': 'Trump', 'party': 'gop', 'votes': 35754, 'inc': True}, {'fname': 'Joe', 'name': 'Biden', 'party': 'dem', 'votes': 20588, 'winner': 'X'}, {'fname': 'Jo', 'name': 'Jorgensen', 'party': 'lib', 'votes': 685}, {'fname': 'Don', 'name': 'Blankenship', 'party': 'cst', 'votes': 91}, {'fname': 'Brian', 'name': 'Carroll', 'party': 'asp', 'votes': 75}], 'status': 'R'}, '55041': {'unit': '55041', 'ts': '2020-11-06T00:29:38.960Z', 'pr': 17, 'tp': 17, 'tv': 5050, 'cand': [{'fname': 'Donald', 'name': 'Trump', 'party': 'gop', 'votes': 3287, 'inc': True}, {'fname': 'Joe', 'name': 'Biden', 'party': 'dem', 'votes': 1722, 'winner': 'X'}, {'fname': 'Jo', 'name': 'Jorgensen', 'party': 'lib', 'votes': 33}, {'fname': 'Don', 'name': 'Blankenship', 'party': 'cst', 'votes': 6}, {'fname': 'Brian', 'name': 'Carroll', 'party': 'asp', 'votes': 2}], 'status': 'R'}, '55043': {'unit': '55043', 'ts': '2020-11-06T00:29:38.960Z', 'pr': 52, 'tp': 52, 'tv': 25333, 'cand': [{'fname': 'Donald', 'name': 'Trump', 'party': 'gop', 'votes': 13981, 'inc': True}, {'fname': 'Joe', 'name': 'Biden', 'party': 'dem', 'votes': 10942, 'winner': 'X'}, {'fname': 'Jo', 'name': 'Jorgensen', 'party': 'lib', 'votes': 342}, {'fname': 'Don', 'name': 'Blankenship', 'party': 'cst', 'votes': 34}, {'fname': 'Brian', 'name': 'Carroll', 'party': 'asp', 'votes': 34}], 'status': 'R'}, '55045': {'unit': '55045', 'ts': '2020-11-06T00:29:38.960Z', 'pr': 24, 'tp': 24, 'tv': 21351, 'cand': [{'fname': 'Joe', 'name': 'Biden', 'party': 'dem', 'votes': 10850, 'winner': 'X'}, {'fname': 'Donald', 'name': 'Trump', 'party': 'gop', 'votes': 10165, 'inc': True}, {'fname': 'Jo', 'name': 'Jorgensen', 'party': 'lib', 'votes': 271}, {'fname': 'Don', 'name': 'Blankenship', 'party': 'cst', 'votes': 38}, {'fname': 'Brian', 'name': 'Carroll', 'party': 'asp', 'votes': 27}], 'status': 'D'}, '55047': {'unit': '55047', 'ts': '2020-11-06T00:29:38.960Z', 'pr': 16, 'tp': 16, 'tv': 10644, 'cand': [{'fname': 'Donald', 'name': 'Trump', 'party': 'gop', 'votes': 7165, 'inc': True}, {'fname': 'Joe', 'name': 'Biden', 'party': 'dem', 'votes': 3344, 'winner': 'X'}, {'fname': 'Jo', 'name': 'Jorgensen', 'party': 'lib', 'votes': 109}, {'fname': 'Don', 'name': 'Blankenship', 'party': 'cst', 'votes': 15}, {'fname': 'Brian', 'name': 'Carroll', 'party': 'asp', 'votes': 11}], 'status': 'R'}, '55049': {'unit': '55049', 'ts': '2020-11-06T00:29:38.960Z', 'pr': 29, 'tp': 29, 'tv': 13961, 'cand': [{'fname': 'Joe', 'name': 'Biden', 'party': 'dem', 'votes': 7828, 'winner': 'X'}, {'fname': 'Donald', 'name': 'Trump', 'party': 'gop', 'votes': 5907, 'inc': True}, {'fname': 'Jo', 'name': 'Jorgensen', 'party': 'lib', 'votes': 161}, {'fname': 'Brian', 'name': 'Carroll', 'party': 'asp', 'votes': 40}, {'fname': 'Don', 'name': 'Blankenship', 'party': 'cst', 'votes': 25}], 'status': 'D'}, '55051': {'unit': '55051', 'ts': '2020-11-06T00:29:38.960Z', 'pr': 19, 'tp': 19, 'tv': 4031, 'cand': [{'fname': 'Donald', 'name': 'Trump', 'party': 'gop', 'votes': 2439, 'inc': True}, {'fname': 'Joe', 'name': 'Biden', 'party': 'dem', 'votes': 1533, 'winner': 'X'}, {'fname': 'Jo', 'name': 'Jorgensen', 'party': 'lib', 'votes': 52}, {'fname': 'Don', 'name': 'Blankenship', 'party': 'cst', 'votes': 6}, {'fname': 'Brian', 'name': 'Carroll', 'party': 'asp', 'votes': 1}], 'status': 'R'}, '55053': {'unit': '55053', 'ts': '2020-11-06T00:29:38.960Z', 'pr': 31, 'tp': 31, 'tv': 10179, 'cand': [{'fname': 'Donald', 'name': 'Trump', 'party': 'gop', 'votes': 5789, 'inc': True}, {'fname': 'Joe', 'name': 'Biden', 'party': 'dem', 'votes': 4255, 'winner': 'X'}, {'fname': 'Jo', 'name': 'Jorgensen', 'party': 'lib', 'votes': 112}, {'fname': 'Don', 'name': 'Blankenship', 'party': 'cst', 'votes': 17}, {'fname': 'Brian', 'name': 'Carroll', 'party': 'asp', 'votes': 6}], 'status': 'R'}, '55055': {'unit': '55055', 'ts': '2020-11-06T00:29:38.960Z', 'pr': 35, 'tp': 35, 'tv': 47860, 'cand': [{'fname': 'Donald', 'name': 'Trump', 'party': 'gop', 'votes': 27209, 'inc': True}, {'fname': 'Joe', 'name': 'Biden', 'party': 'dem', 'votes': 19904, 'winner': 'X'}, {'fname': 'Jo', 'name': 'Jorgensen', 'party': 'lib', 'votes': 634}, {'fname': 'Don', 'name': 'Blankenship', 'party': 'cst', 'votes': 69}, {'fname': 'Brian', 'name': 'Carroll', 'party': 'asp', 'votes': 44}], 'status': 'R'}, '55057': {'unit': '55057', 'ts': '2020-11-06T00:29:38.960Z', 'pr': 31, 'tp': 31, 'tv': 13683, 'cand': [{'fname': 'Donald', 'name': 'Trump', 'party': 'gop', 'votes': 8749, 'inc': True}, {'fname': 'Joe', 'name': 'Biden', 'party': 'dem', 'votes': 4747, 'winner': 'X'}, {'fname': 'Jo', 'name': 'Jorgensen', 'party': 'lib', 'votes': 142}, {'fname': 'Don', 'name': 'Blankenship', 'party': 'cst', 'votes': 25}, {'fname': 'Brian', 'name': 'Carroll', 'party': 'asp', 'votes': 20}], 'status': 'R'}, '55059': {'unit': '55059', 'ts': '2020-11-06T00:29:38.960Z', 'pr': 140, 'tp': 140, 'tv': 88467, 'cand': [{'fname': 'Donald', 'name': 'Trump', 'party': 'gop', 'votes': 44972, 'inc': True}, {'fname': 'Joe', 'name': 'Biden', 'party': 'dem', 'votes': 42191, 'winner': 'X'}, {'fname': 'Jo', 'name': 'Jorgensen', 'party': 'lib', 'votes': 1037}, {'fname': 'Don', 'name': 'Blankenship', 'party': 'cst', 'votes': 147}, {'fname': 'Brian', 'name': 'Carroll', 'party': 'asp', 'votes': 120}], 'status': 'R'}, '55061': {'unit': '55061', 'ts': '2020-11-06T00:29:38.960Z', 'pr': 14, 'tp': 14, 'tv': 12066, 'cand': [{'fname': 'Donald', 'name': 'Trump', 'party': 'gop', 'votes': 7927, 'inc': True}, {'fname': 'Joe', 'name': 'Biden', 'party': 'dem', 'votes': 3977, 'winner': 'X'}, {'fname': 'Jo', 'name': 'Jorgensen', 'party': 'lib', 'votes': 125}, {'fname': 'Don', 'name': 'Blankenship', 'party': 'cst', 'votes': 26}, {'fname': 'Brian', 'name': 'Carroll', 'party': 'asp', 'votes': 11}], 'status': 'R'}, '55063': {'unit': '55063', 'ts': '2020-11-06T00:29:38.960Z', 'pr': 55, 'tp': 55, 'tv': 67609, 'cand': [{'fname': 'Joe', 'name': 'Biden', 'party': 'dem', 'votes': 37817, 'winner': 'X'}, {'fname': 'Donald', 'name': 'Trump', 'party': 'gop', 'votes': 28661, 'inc': True}, {'fname': 'Jo', 'name': 'Jorgensen', 'party': 'lib', 'votes': 876}, {'fname': 'Don', 'name': 'Blankenship', 'party': 'cst', 'votes': 134}, {'fname': 'Brian', 'name': 'Carroll', 'party': 'asp', 'votes': 121}], 'status': 'D'}, '55065': {'unit': '55065', 'ts': '2020-11-06T00:29:38.960Z', 'pr': 28, 'tp': 28, 'tv': 8547, 'cand': [{'fname': 'Donald', 'name': 'Trump', 'party': 'gop', 'votes': 4820, 'inc': True}, {'fname': 'Joe', 'name': 'Biden', 'party': 'dem', 'votes': 3647, 'winner': 'X'}, {'fname': 'Jo', 'name': 'Jorgensen', 'party': 'lib', 'votes': 56}, {'fname': 'Don', 'name': 'Blankenship', 'party': 'cst', 'votes': 15}, {'fname': 'Brian', 'name': 'Carroll', 'party': 'asp', 'votes': 9}], 'status': 'R'}, '55067': {'unit': '55067', 'ts': '2020-11-06T00:29:38.960Z', 'pr': 27, 'tp': 27, 'tv': 11156, 'cand': [{'fname': 'Donald', 'name': 'Trump', 'party': 'gop', 'votes': 7330, 'inc': True}, {'fname': 'Joe', 'name': 'Biden', 'party': 'dem', 'votes': 3703, 'winner': 'X'}, {'fname': 'Jo', 'name': 'Jorgensen', 'party': 'lib', 'votes': 89}, {'fname': 'Don', 'name': 'Blankenship', 'party': 'cst', 'votes': 20}, {'fname': 'Brian', 'name': 'Carroll', 'party': 'asp', 'votes': 14}], 'status': 'R'}, '55069': {'unit': '55069', 'ts': '2020-11-06T00:29:38.960Z', 'pr': 27, 'tp': 27, 'tv': 16496, 'cand': [{'fname': 'Donald', 'name': 'Trump', 'party': 'gop', 'votes': 10017, 'inc': True}, {'fname': 'Joe', 'name': 'Biden', 'party': 'dem', 'votes': 6260, 'winner': 'X'}, {'fname': 'Jo', 'name': 'Jorgensen', 'party': 'lib', 'votes': 175}, {'fname': 'Don', 'name': 'Blankenship', 'party': 'cst', 'votes': 31}, {'fname': 'Brian', 'name': 'Carroll', 'party': 'asp', 'votes': 13}], 'status': 'R'}, '55071': {'unit': '55071', 'ts': '2020-11-06T00:29:38.960Z', 'pr': 43, 'tp': 43, 'tv': 44477, 'cand': [{'fname': 'Donald', 'name': 'Trump', 'party': 'gop', 'votes': 26944, 'inc': True}, {'fname': 'Joe', 'name': 'Biden', 'party': 'dem', 'votes': 16815, 'winner': 'X'}, {'fname': 'Jo', 'name': 'Jorgensen', 'party': 'lib', 'votes': 553}, {'fname': 'Brian', 'name': 'Carroll', 'party': 'asp', 'votes': 88}, {'fname': 'Don', 'name': 'Blankenship', 'party': 'cst', 'votes': 77}], 'status': 'R'}, '55073': {'unit': '55073', 'ts': '2020-11-06T00:29:38.960Z', 'pr': 109, 'tp': 109, 'tv': 76603, 'cand': [{'fname': 'Donald', 'name': 'Trump', 'party': 'gop', 'votes': 44623, 'inc': True}, {'fname': 'Joe', 'name': 'Biden', 'party': 'dem', 'votes': 30807, 'winner': 'X'}, {'fname': 'Jo', 'name': 'Jorgensen', 'party': 'lib', 'votes': 929}, {'fname': 'Don', 'name': 'Blankenship', 'party': 'cst', 'votes': 151}, {'fname': 'Brian', 'name': 'Carroll', 'party': 'asp', 'votes': 93}], 'status': 'R'}, '55075': {'unit': '55075', 'ts': '2020-11-06T00:29:38.960Z', 'pr': 28, 'tp': 28, 'tv': 22959, 'cand': [{'fname': 'Donald', 'name': 'Trump', 'party': 'gop', 'votes': 15303, 'inc': True}, {'fname': 'Joe', 'name': 'Biden', 'party': 'dem', 'votes': 7363, 'winner': 'X'}, {'fname': 'Jo', 'name': 'Jorgensen', 'party': 'lib', 'votes': 229}, {'fname': 'Don', 'name': 'Blankenship', 'party': 'cst', 'votes': 32}, {'fname': 'Brian', 'name': 'Carroll', 'party': 'asp', 'votes': 32}], 'status': 'R'}, '55077': {'unit': '55077', 'ts': '2020-11-06T00:29:38.960Z', 'pr': 19, 'tp': 19, 'tv': 9050, 'cand': [{'fname': 'Donald', 'name': 'Trump', 'party': 'gop', 'votes': 5719, 'inc': True}, {'fname': 'Joe', 'name': 'Biden', 'party': 'dem', 'votes': 3239, 'winner': 'X'}, {'fname': 'Jo', 'name': 'Jorgensen', 'party': 'lib', 'votes': 78}, {'fname': 'Don', 'name': 'Blankenship', 'party': 'cst', 'votes': 10}, {'fname': 'Brian', 'name': 'Carroll', 'party': 'asp', 'votes': 4}], 'status': 'R'}, '55078': {'unit': '55078', 'ts': '2020-11-06T00:29:38.960Z', 'pr': 2, 'tp': 2, 'tv': 1585, 'cand': [{'fname': 'Joe', 'name': 'Biden', 'party': 'dem', 'votes': 1303, 'winner': 'X'}, {'fname': 'Donald', 'name': 'Trump', 'party': 'gop', 'votes': 278, 'inc': True}, {'fname': 'Jo', 'name': 'Jorgensen', 'party': 'lib', 'votes': 2}, {'fname': 'Don', 'name': 'Blankenship', 'party': 'cst', 'votes': 2}, {'fname': 'Brian', 'name': 'Carroll', 'party': 'asp', 'votes': 0}], 'status': 'D'}, '55079': {'unit': '55079', 'ts': '2020-11-06T00:29:38.960Z', 'pr': 478, 'tp': 478, 'tv': 457318, 'cand': [{'fname': 'Joe', 'name': 'Biden', 'party': 'dem', 'votes': 317251, 'winner': 'X'}, {'fname': 'Donald', 'name': 'Trump', 'party': 'gop', 'votes': 134355, 'inc': True}, {'fname': 'Jo', 'name': 'Jorgensen', 'party': 'lib', 'votes': 4339}, {'fname': 'Brian', 'name': 'Carroll', 'party': 'asp', 'votes': 750}, {'fname': 'Don', 'name': 'Blankenship', 'party': 'cst', 'votes': 623}], 'status': 'D'}, '55081': {'unit': '55081', 'ts': '2020-11-06T00:29:38.960Z', 'pr': 41, 'tp': 41, 'tv': 22560, 'cand': [{'fname': 'Donald', 'name': 'Trump', 'party': 'gop', 'votes': 13775, 'inc': True}, {'fname': 'Joe', 'name': 'Biden', 'party': 'dem', 'votes': 8432, 'winner': 'X'}, {'fname': 'Jo', 'name': 'Jorgensen', 'party': 'lib', 'votes': 257}, {'fname': 'Don', 'name': 'Blankenship', 'party': 'cst', 'votes': 66}, {'fname': 'Brian', 'name': 'Carroll', 'party': 'asp', 'votes': 30}], 'status': 'R'}, '55083': {'unit': '55083', 'ts': '2020-11-06T00:29:38.960Z', 'pr': 29, 'tp': 29, 'tv': 23211, 'cand': [{'fname': 'Donald', 'name': 'Trump', 'party': 'gop', 'votes': 16226, 'inc': True}, {'fname': 'Joe', 'name': 'Biden', 'party': 'dem', 'votes': 6715, 'winner': 'X'}, {'fname': 'Jo', 'name': 'Jorgensen', 'party': 'lib', 'votes': 210}, {'fname': 'Don', 'name': 'Blankenship', 'party': 'cst', 'votes': 40}, {'fname': 'Brian', 'name': 'Carroll', 'party': 'asp', 'votes': 20}], 'status': 'R'}, '55085': {'unit': '55085', 'ts': '2020-11-06T00:29:38.960Z', 'pr': 29, 'tp': 29, 'tv': 24111, 'cand': [{'fname': 'Donald', 'name': 'Trump', 'party': 'gop', 'votes': 13671, 'inc': True}, {'fname': 'Joe', 'name': 'Biden', 'party': 'dem', 'votes': 10105, 'winner': 'X'}, {'fname': 'Jo', 'name': 'Jorgensen', 'party': 'lib', 'votes': 275}, {'fname': 'Don', 'name': 'Blankenship', 'party': 'cst', 'votes': 43}, {'fname': 'Brian', 'name': 'Carroll', 'party': 'asp', 'votes': 17}], 'status': 'R'}, '55087': {'unit': '55087', 'ts': '2020-11-06T00:29:38.960Z', 'pr': 101, 'tp': 101, 'tv': 107956, 'cand': [{'fname': 'Donald', 'name': 'Trump', 'party': 'gop', 'votes': 58379, 'inc': True}, {'fname': 'Joe', 'name': 'Biden', 'party': 'dem', 'votes': 47659, 'winner': 'X'}, {'fname': 'Jo', 'name': 'Jorgensen', 'party': 'lib', 'votes': 1569}, {'fname': 'Brian', 'name': 'Carroll', 'party': 'asp', 'votes': 177}, {'fname': 'Don', 'name': 'Blankenship', 'party': 'cst', 'votes': 172}], 'status': 'R'}, '55089': {'unit': '55089', 'ts': '2020-11-06T00:29:38.960Z', 'pr': 51, 'tp': 51, 'tv': 61244, 'cand': [{'fname': 'Donald', 'name': 'Trump', 'party': 'gop', 'votes': 33912, 'inc': True}, {'fname': 'Joe', 'name': 'Biden', 'party': 'dem', 'votes': 26515, 'winner': 'X'}, {'fname': 'Jo', 'name': 'Jorgensen', 'party': 'lib', 'votes': 646}, {'fname': 'Brian', 'name': 'Carroll', 'party': 'asp', 'votes': 89}, {'fname': 'Don', 'name': 'Blankenship', 'party': 'cst', 'votes': 82}], 'status': 'R'}, '55091': {'unit': '55091', 'ts': '2020-11-06T00:29:38.960Z', 'pr': 11, 'tp': 11, 'tv': 4138, 'cand': [{'fname': 'Donald', 'name': 'Trump', 'party': 'gop', 'votes': 2584, 'inc': True}, {'fname': 'Joe', 'name': 'Biden', 'party': 'dem', 'votes': 1489, 'winner': 'X'}, {'fname': 'Jo', 'name': 'Jorgensen', 'party': 'lib', 'votes': 48}, {'fname': 'Don', 'name': 'Blankenship', 'party': 'cst', 'votes': 13}, {'fname': 'Brian', 'name': 'Carroll', 'party': 'asp', 'votes': 4}], 'status': 'R'}, '55093': {'unit': '55093', 'ts': '2020-11-06T00:29:38.960Z', 'pr': 28, 'tp': 28, 'tv': 23260, 'cand': [{'fname': 'Donald', 'name': 'Trump', 'party': 'gop', 'votes': 12813, 'inc': True}, {'fname': 'Joe', 'name': 'Biden', 'party': 'dem', 'votes': 9789, 'winner': 'X'}, {'fname': 'Jo', 'name': 'Jorgensen', 'party': 'lib', 'votes': 383}, {'fname': 'Brian', 'name': 'Carroll', 'party': 'asp', 'votes': 218}, {'fname': 'Don', 'name': 'Blankenship', 'party': 'cst', 'votes': 57}], 'status': 'R'}, '55095': {'unit': '55095', 'ts': '2020-11-06T00:29:38.960Z', 'pr': 36, 'tp': 36, 'tv': 26318, 'cand': [{'fname': 'Donald', 'name': 'Trump', 'party': 'gop', 'votes': 16590, 'inc': True}, {'fname': 'Joe', 'name': 'Biden', 'party': 'dem', 'votes': 9362, 'winner': 'X'}, {'fname': 'Jo', 'name': 'Jorgensen', 'party': 'lib', 'votes': 281}, {'fname': 'Don', 'name': 'Blankenship', 'party': 'cst', 'votes': 50}, {'fname': 'Brian', 'name': 'Carroll', 'party': 'asp', 'votes': 35}], 'status': 'R'}, '55097': {'unit': '55097', 'ts': '2020-11-06T00:29:38.960Z', 'pr': 47, 'tp': 47, 'tv': 40510, 'cand': [{'fname': 'Joe', 'name': 'Biden', 'party': 'dem', 'votes': 20426, 'winner': 'X'}, {'fname': 'Donald', 'name': 'Trump', 'party': 'gop', 'votes': 19298, 'inc': True}, {'fname': 'Jo', 'name': 'Jorgensen', 'party': 'lib', 'votes': 643}, {'fname': 'Brian', 'name': 'Carroll', 'party': 'asp', 'votes': 76}, {'fname': 'Don', 'name': 'Blankenship', 'party': 'cst', 'votes': 67}], 'status': 'D'}, '55099': {'unit': '55099', 'ts': '2020-11-06T00:29:38.960Z', 'pr': 23, 'tp': 23, 'tv': 8642, 'cand': [{'fname': 'Donald', 'name': 'Trump', 'party': 'gop', 'votes': 5394, 'inc': True}, {'fname': 'Joe', 'name': 'Biden', 'party': 'dem', 'votes': 3132, 'winner': 'X'}, {'fname': 'Jo', 'name': 'Jorgensen', 'party': 'lib', 'votes': 98}, {'fname': 'Don', 'name': 'Blankenship', 'party': 'cst', 'votes': 13}, {'fname': 'Brian', 'name': 'Carroll', 'party': 'asp', 'votes': 5}], 'status': 'R'}, '55101': {'unit': '55101', 'ts': '2020-11-06T00:29:38.960Z', 'pr': 69, 'tp': 69, 'tv': 106148, 'cand': [{'fname': 'Donald', 'name': 'Trump', 'party': 'gop', 'votes': 54475, 'inc': True}, {'fname': 'Joe', 'name': 'Biden', 'party': 'dem', 'votes': 50154, 'winner': 'X'}, {'fname': 'Jo', 'name': 'Jorgensen', 'party': 'lib', 'votes': 1200}, {'fname': 'Don', 'name': 'Blankenship', 'party': 'cst', 'votes': 169}, {'fname': 'Brian', 'name': 'Carroll', 'party': 'asp', 'votes': 150}], 'status': 'R'}, '55103': {'unit': '55103', 'ts': '2020-11-06T00:29:38.960Z', 'pr': 34, 'tp': 34, 'tv': 9005, 'cand': [{'fname': 'Donald', 'name': 'Trump', 'party': 'gop', 'votes': 4877, 'inc': True}, {'fname': 'Joe', 'name': 'Biden', 'party': 'dem', 'votes': 3995, 'winner': 'X'}, {'fname': 'Jo', 'name': 'Jorgensen', 'party': 'lib', 'votes': 94}, {'fname': 'Don', 'name': 'Blankenship', 'party': 'cst', 'votes': 25}, {'fname': 'Brian', 'name': 'Carroll', 'party': 'asp', 'votes': 14}], 'status': 'R'}, '55105': {'unit': '55105', 'ts': '2020-11-06T00:29:38.960Z', 'pr': 100, 'tp': 100, 'tv': 85150, 'cand': [{'fname': 'Joe', 'name': 'Biden', 'party': 'dem', 'votes': 46649, 'winner': 'X'}, {'fname': 'Donald', 'name': 'Trump', 'party': 'gop', 'votes': 37133, 'inc': True}, {'fname': 'Jo', 'name': 'Jorgensen', 'party': 'lib', 'votes': 1094}, {'fname': 'Don', 'name': 'Blankenship', 'party': 'cst', 'votes': 152}, {'fname': 'Brian', 'name': 'Carroll', 'party': 'asp', 'votes': 122}], 'status': 'D'}, '55107': {'unit': '55107', 'ts': '2020-11-06T00:29:38.960Z', 'pr': 33, 'tp': 33, 'tv': 7879, 'cand': [{'fname': 'Donald', 'name': 'Trump', 'party': 'gop', 'votes': 5257, 'inc': True}, {'fname': 'Joe', 'name': 'Biden', 'party': 'dem', 'votes': 2517, 'winner': 'X'}, {'fname': 'Jo', 'name': 'Jorgensen', 'party': 'lib', 'votes': 85}, {'fname': 'Don', 'name': 'Blankenship', 'party': 'cst', 'votes': 12}, {'fname': 'Brian', 'name': 'Carroll', 'party': 'asp', 'votes': 8}], 'status': 'R'}, '55109': {'unit': '55109', 'ts': '2020-11-06T00:29:38.960Z', 'pr': 42, 'tp': 42, 'tv': 56542, 'cand': [{'fname': 'Donald', 'name': 'Trump', 'party': 'gop', 'votes': 32190, 'inc': True}, {'fname': 'Joe', 'name': 'Biden', 'party': 'dem', 'votes': 23190, 'winner': 'X'}, {'fname': 'Jo', 'name': 'Jorgensen', 'party': 'lib', 'votes': 878}, {'fname': 'Brian', 'name': 'Carroll', 'party': 'asp', 'votes': 169}, {'fname': 'Don', 'name': 'Blankenship', 'party': 'cst', 'votes': 115}], 'status': 'R'}, '55111': {'unit': '55111', 'ts': '2020-11-06T00:29:38.960Z', 'pr': 41, 'tp': 41, 'tv': 36172, 'cand': [{'fname': 'Joe', 'name': 'Biden', 'party': 'dem', 'votes': 18103, 'winner': 'X'}, {'fname': 'Donald', 'name': 'Trump', 'party': 'gop', 'votes': 17489, 'inc': True}, {'fname': 'Jo', 'name': 'Jorgensen', 'party': 'lib', 'votes': 441}, {'fname': 'Brian', 'name': 'Carroll', 'party': 'asp', 'votes': 89}, {'fname': 'Don', 'name': 'Blankenship', 'party': 'cst', 'votes': 50}], 'status': 'D'}, '55113': {'unit': '55113', 'ts': '2020-11-06T00:29:38.960Z', 'pr': 21, 'tp': 21, 'tv': 10463, 'cand': [{'fname': 'Donald', 'name': 'Trump', 'party': 'gop', 'votes': 5883, 'inc': True}, {'fname': 'Joe', 'name': 'Biden', 'party': 'dem', 'votes': 4494, 'winner': 'X'}, {'fname': 'Jo', 'name': 'Jorgensen', 'party': 'lib', 'votes': 60}, {'fname': 'Don', 'name': 'Blankenship', 'party': 'cst', 'votes': 17}, {'fname': 'Brian', 'name': 'Carroll', 'party': 'asp', 'votes': 9}], 'status': 'R'}, '55115': {'unit': '55115', 'ts': '2020-11-06T00:29:38.960Z', 'pr': 43, 'tp': 43, 'tv': 22878, 'cand': [{'fname': 'Donald', 'name': 'Trump', 'party': 'gop', 'votes': 15447, 'inc': True}, {'fname': 'Joe', 'name': 'Biden', 'party': 'dem', 'votes': 7131, 'winner': 'X'}, {'fname': 'Jo', 'name': 'Jorgensen', 'party': 'lib', 'votes': 250}, {'fname': 'Don', 'name': 'Blankenship', 'party': 'cst', 'votes': 33}, {'fname': 'Brian', 'name': 'Carroll', 'party': 'asp', 'votes': 17}], 'status': 'R'}, '55117': {'unit': '55117', 'ts': '2020-11-06T00:29:38.960Z', 'pr': 54, 'tp': 54, 'tv': 65855, 'cand': [{'fname': 'Donald', 'name': 'Trump', 'party': 'gop', 'votes': 37624, 'inc': True}, {'fname': 'Joe', 'name': 'Biden', 'party': 'dem', 'votes': 27109, 'winner': 'X'}, {'fname': 'Jo', 'name': 'Jorgensen', 'party': 'lib', 'votes': 896}, {'fname': 'Don', 'name': 'Blankenship', 'party': 'cst', 'votes': 135}, {'fname': 'Brian', 'name': 'Carroll', 'party': 'asp', 'votes': 91}], 'status': 'R'}, '55119': {'unit': '55119', 'ts': '2020-11-06T00:29:38.960Z', 'pr': 27, 'tp': 27, 'tv': 10678, 'cand': [{'fname': 'Donald', 'name': 'Trump', 'party': 'gop', 'votes': 7656, 'inc': True}, {'fname': 'Joe', 'name': 'Biden', 'party': 'dem', 'votes': 2693, 'winner': 'X'}, {'fname': 'Brian', 'name': 'Carroll', 'party': 'asp', 'votes': 179}, {'fname': 'Jo', 'name': 'Jorgensen', 'party': 'lib', 'votes': 119}, {'fname': 'Don', 'name': 'Blankenship', 'party': 'cst', 'votes': 31}], 'status': 'R'}, '55121': {'unit': '55121', 'ts': '2020-11-06T00:29:38.960Z', 'pr': 26, 'tp': 26, 'tv': 15341, 'cand': [{'fname': 'Donald', 'name': 'Trump', 'party': 'gop', 'votes': 8828, 'inc': True}, {'fname': 'Joe', 'name': 'Biden', 'party': 'dem', 'votes': 6283, 'winner': 'X'}, {'fname': 'Jo', 'name': 'Jorgensen', 'party': 'lib', 'votes': 171}, {'fname': 'Don', 'name': 'Blankenship', 'party': 'cst', 'votes': 38}, {'fname': 'Brian', 'name': 'Carroll', 'party': 'asp', 'votes': 21}], 'status': 'R'}, '55123': {'unit': '55123', 'ts': '2020-11-06T00:29:38.960Z', 'pr': 33, 'tp': 33, 'tv': 15907, 'cand': [{'fname': 'Donald', 'name': 'Trump', 'party': 'gop', 'votes': 8216, 'inc': True}, {'fname': 'Joe', 'name': 'Biden', 'party': 'dem', 'votes': 7457, 'winner': 'X'}, {'fname': 'Jo', 'name': 'Jorgensen', 'party': 'lib', 'votes': 180}, {'fname': 'Brian', 'name': 'Carroll', 'party': 'asp', 'votes': 28}, {'fname': 'Don', 'name': 'Blankenship', 'party': 'cst', 'votes': 26}], 'status': 'R'}, '55125': {'unit': '55125', 'ts': '2020-11-06T00:29:38.960Z', 'pr': 15, 'tp': 15, 'tv': 15338, 'cand': [{'fname': 'Donald', 'name': 'Trump', 'party': 'gop', 'votes': 9261, 'inc': True}, {'fname': 'Joe', 'name': 'Biden', 'party': 'dem', 'votes': 5903, 'winner': 'X'}, {'fname': 'Jo', 'name': 'Jorgensen', 'party': 'lib', 'votes': 138}, {'fname': 'Don', 'name': 'Blankenship', 'party': 'cst', 'votes': 22}, {'fname': 'Brian', 'name': 'Carroll', 'party': 'asp', 'votes': 14}], 'status': 'R'}, '55127': {'unit': '55127', 'ts': '2020-11-06T00:29:38.960Z', 'pr': 42, 'tp': 42, 'tv': 57441, 'cand': [{'fname': 'Donald', 'name': 'Trump', 'party': 'gop', 'votes': 33844, 'inc': True}, {'fname': 'Joe', 'name': 'Biden', 'party': 'dem', 'votes': 22783, 'winner': 'X'}, {'fname': 'Jo', 'name': 'Jorgensen', 'party': 'lib', 'votes': 641}, {'fname': 'Don', 'name': 'Blankenship', 'party': 'cst', 'votes': 98}, {'fname': 'Brian', 'name': 'Carroll', 'party': 'asp', 'votes': 75}], 'status': 'R'}, '55129': {'unit': '55129', 'ts': '2020-11-06T00:29:38.960Z', 'pr': 25, 'tp': 25, 'tv': 10353, 'cand': [{'fname': 'Donald', 'name': 'Trump', 'party': 'gop', 'votes': 6332, 'inc': True}, {'fname': 'Joe', 'name': 'Biden', 'party': 'dem', 'votes': 3867, 'winner': 'X'}, {'fname': 'Jo', 'name': 'Jorgensen', 'party': 'lib', 'votes': 123}, {'fname': 'Don', 'name': 'Blankenship', 'party': 'cst', 'votes': 19}, {'fname': 'Brian', 'name': 'Carroll', 'party': 'asp', 'votes': 12}], 'status': 'R'}, '55131': {'unit': '55131', 'ts': '2020-11-06T00:29:38.960Z', 'pr': 45, 'tp': 45, 'tv': 88026, 'cand': [{'fname': 'Donald', 'name': 'Trump', 'party': 'gop', 'votes': 60235, 'inc': True}, {'fname': 'Joe', 'name': 'Biden', 'party': 'dem', 'votes': 26647, 'winner': 'X'}, {'fname': 'Jo', 'name': 'Jorgensen', 'party': 'lib', 'votes': 941}, {'fname': 'Don', 'name': 'Blankenship', 'party': 'cst', 'votes': 125}, {'fname': 'Brian', 'name': 'Carroll', 'party': 'asp', 'votes': 78}], 'status': 'R'}, '55133': {'unit': '55133', 'ts': '2020-11-06T00:29:38.960Z', 'pr': 213, 'tp': 213, 'tv': 267159, 'cand': [{'fname': 'Donald', 'name': 'Trump', 'party': 'gop', 'votes': 159633, 'inc': True}, {'fname': 'Joe', 'name': 'Biden', 'party': 'dem', 'votes': 103867, 'winner': 'X'}, {'fname': 'Jo', 'name': 'Jorgensen', 'party': 'lib', 'votes': 3023}, {'fname': 'Brian', 'name': 'Carroll', 'party': 'asp', 'votes': 331}, {'fname': 'Don', 'name': 'Blankenship', 'party': 'cst', 'votes': 305}], 'status': 'R'}, '55135': {'unit': '55135', 'ts': '2020-11-06T00:29:38.960Z', 'pr': 39, 'tp': 39, 'tv': 29081, 'cand': [{'fname': 'Donald', 'name': 'Trump', 'party': 'gop', 'votes': 18948, 'inc': True}, {'fname': 'Joe', 'name': 'Biden', 'party': 'dem', 'votes': 9699, 'winner': 'X'}, {'fname': 'Jo', 'name': 'Jorgensen', 'party': 'lib', 'votes': 357}, {'fname': 'Don', 'name': 'Blankenship', 'party': 'cst', 'votes': 48}, {'fname': 'Brian', 'name': 'Carroll', 'party': 'asp', 'votes': 29}], 'status': 'R'}, '55137': {'unit': '55137', 'ts': '2020-11-06T00:29:38.960Z', 'pr': 26, 'tp': 26, 'tv': 13564, 'cand': [{'fname': 'Donald', 'name': 'Trump', 'party': 'gop', 'votes': 9016, 'inc': True}, {'fname': 'Joe', 'name': 'Biden', 'party': 'dem', 'votes': 4388, 'winner': 'X'}, {'fname': 'Jo', 'name': 'Jorgensen', 'party': 'lib', 'votes': 113}, {'fname': 'Don', 'name': 'Blankenship', 'party': 'cst', 'votes': 29}, {'fname': 'Brian', 'name': 'Carroll', 'party': 'asp', 'votes': 18}], 'status': 'R'}, '55139': {'unit': '55139', 'ts': '2020-11-06T00:29:38.960Z', 'pr': 90, 'tp': 90, 'tv': 93790, 'cand': [{'fname': 'Donald', 'name': 'Trump', 'party': 'gop', 'votes': 47795, 'inc': True}, {'fname': 'Joe', 'name': 'Biden', 'party': 'dem', 'votes': 44060, 'winner': 'X'}, {'fname': 'Jo', 'name': 'Jorgensen', 'party': 'lib', 'votes': 1629}, {'fname': 'Don', 'name': 'Blankenship', 'party': 'cst', 'votes': 168}, {'fname': 'Brian', 'name': 'Carroll', 'party': 'asp', 'votes': 138}], 'status': 'R'}, '55141': {'unit': '55141', 'ts': '2020-11-06T00:29:38.960Z', 'pr': 44, 'tp': 44, 'tv': 41196, 'cand': [{'fname': 'Donald', 'name': 'Trump', 'party': 'gop', 'votes': 24306, 'inc': True}, {'fname': 'Joe', 'name': 'Biden', 'party': 'dem', 'votes': 16360, 'winner': 'X'}, {'fname': 'Jo', 'name': 'Jorgensen', 'party': 'lib', 'votes': 402}, {'fname': 'Don', 'name': 'Blankenship', 'party': 'cst', 'votes': 79}, {'fname': 'Brian', 'name': 'Carroll', 'party': 'asp', 'votes': 49}], 'status': 'R'}, 'WI': {'unit': 'WI', 'ts': '2020-11-06T00:29:38.960Z', 'pr': 3689, 'tp': 3689, 'tv': 3289151, 'cand': [{'fname': 'Joe', 'name': 'Biden', 'party': 'dem', 'votes': 1630542, 'winner': 'X', 'electWon': 10}, {'fname': 'Donald', 'name': 'Trump', 'party': 'gop', 'votes': 1609734, 'inc': True}, {'fname': 'Jo', 'name': 'Jorgensen', 'party': 'lib', 'votes': 38414}, {'fname': 'Brian', 'name': 'Carroll', 'party': 'asp', 'votes': 5254}, {'fname': 'Don', 'name': 'Blankenship', 'party': 'cst', 'votes': 5207}], 'status': 'DW', 'eevp': 99}}\n"
     ]
    }
   ],
   "source": [
    "print(turnout_map)"
   ]
  },
  {
   "cell_type": "code",
   "execution_count": 142,
   "metadata": {},
   "outputs": [],
   "source": [
    "turn_out_per_county = dict()\n",
    "for county_fips, item in turnout_map.items():\n",
    "    vote_count = 0\n",
    "    for cand in item['cand']:\n",
    "        vote_count = cand['votes'] + vote_count\n",
    "    if county_fips.isdigit():\n",
    "        turn_out_per_county[int(county_fips)] = vote_count"
   ]
  },
  {
   "cell_type": "code",
   "execution_count": 143,
   "metadata": {},
   "outputs": [
    {
     "name": "stdout",
     "output_type": "stream",
     "text": [
      "{55001: 11806, 55003: 8728, 55005: 25316, 55007: 10876, 55009: 143623, 55011: 7798, 55013: 10138, 55015: 30797, 55017: 35908, 55019: 14866, 55021: 33847, 55023: 8695, 55025: 343599, 55027: 48415, 55029: 20076, 55031: 24595, 55033: 23526, 55035: 58069, 55037: 2939, 55039: 57193, 55041: 5050, 55043: 25333, 55045: 21351, 55047: 10644, 55049: 13961, 55051: 4031, 55053: 10179, 55055: 47860, 55057: 13683, 55059: 88467, 55061: 12066, 55063: 67609, 55065: 8547, 55067: 11156, 55069: 16496, 55071: 44477, 55073: 76603, 55075: 22959, 55077: 9050, 55078: 1585, 55079: 457318, 55081: 22560, 55083: 23211, 55085: 24111, 55087: 107956, 55089: 61244, 55091: 4138, 55093: 23260, 55095: 26318, 55097: 40510, 55099: 8642, 55101: 106148, 55103: 9005, 55105: 85150, 55107: 7879, 55109: 56542, 55111: 36172, 55113: 10463, 55115: 22878, 55117: 65855, 55119: 10678, 55121: 15341, 55123: 15907, 55125: 15338, 55127: 57441, 55129: 10353, 55131: 88026, 55133: 267159, 55135: 29081, 55137: 13564, 55139: 93790, 55141: 41196}\n"
     ]
    }
   ],
   "source": [
    "# county FISP -> total votes\n",
    "print(turn_out_per_county)"
   ]
  },
  {
   "cell_type": "code",
   "execution_count": 144,
   "metadata": {},
   "outputs": [],
   "source": [
    "turn_out_per_county_df = pd.DataFrame(turn_out_per_county.items(), columns=['fips', 'votes'])"
   ]
  },
  {
   "cell_type": "code",
   "execution_count": 145,
   "metadata": {},
   "outputs": [
    {
     "data": {
      "text/html": [
       "<div>\n",
       "<style scoped>\n",
       "    .dataframe tbody tr th:only-of-type {\n",
       "        vertical-align: middle;\n",
       "    }\n",
       "\n",
       "    .dataframe tbody tr th {\n",
       "        vertical-align: top;\n",
       "    }\n",
       "\n",
       "    .dataframe thead th {\n",
       "        text-align: right;\n",
       "    }\n",
       "</style>\n",
       "<table border=\"1\" class=\"dataframe\">\n",
       "  <thead>\n",
       "    <tr style=\"text-align: right;\">\n",
       "      <th></th>\n",
       "      <th>fips</th>\n",
       "      <th>votes</th>\n",
       "    </tr>\n",
       "  </thead>\n",
       "  <tbody>\n",
       "    <tr>\n",
       "      <th>0</th>\n",
       "      <td>55001</td>\n",
       "      <td>11806</td>\n",
       "    </tr>\n",
       "    <tr>\n",
       "      <th>1</th>\n",
       "      <td>55003</td>\n",
       "      <td>8728</td>\n",
       "    </tr>\n",
       "    <tr>\n",
       "      <th>2</th>\n",
       "      <td>55005</td>\n",
       "      <td>25316</td>\n",
       "    </tr>\n",
       "  </tbody>\n",
       "</table>\n",
       "</div>"
      ],
      "text/plain": [
       "    fips  votes\n",
       "0  55001  11806\n",
       "1  55003   8728\n",
       "2  55005  25316"
      ]
     },
     "execution_count": 145,
     "metadata": {},
     "output_type": "execute_result"
    }
   ],
   "source": [
    "turn_out_per_county_df.head(3)"
   ]
  },
  {
   "cell_type": "code",
   "execution_count": 146,
   "metadata": {},
   "outputs": [],
   "source": [
    "turn_out_per_county_df = turn_out_per_county_df.merge(fips_df, on='fips', how='left')"
   ]
  },
  {
   "cell_type": "code",
   "execution_count": 147,
   "metadata": {},
   "outputs": [],
   "source": [
    "turn_out_per_county_df['County'] = turn_out_per_county_df['county_name'].str.upper()"
   ]
  },
  {
   "cell_type": "code",
   "execution_count": 148,
   "metadata": {},
   "outputs": [
    {
     "data": {
      "text/html": [
       "<div>\n",
       "<style scoped>\n",
       "    .dataframe tbody tr th:only-of-type {\n",
       "        vertical-align: middle;\n",
       "    }\n",
       "\n",
       "    .dataframe tbody tr th {\n",
       "        vertical-align: top;\n",
       "    }\n",
       "\n",
       "    .dataframe thead th {\n",
       "        text-align: right;\n",
       "    }\n",
       "</style>\n",
       "<table border=\"1\" class=\"dataframe\">\n",
       "  <thead>\n",
       "    <tr style=\"text-align: right;\">\n",
       "      <th></th>\n",
       "      <th>fips</th>\n",
       "      <th>votes</th>\n",
       "      <th>county_name</th>\n",
       "      <th>state_abbr</th>\n",
       "      <th>state_name</th>\n",
       "      <th>long_name</th>\n",
       "      <th>sumlev</th>\n",
       "      <th>region</th>\n",
       "      <th>division</th>\n",
       "      <th>state</th>\n",
       "      <th>county</th>\n",
       "      <th>crosswalk</th>\n",
       "      <th>region_name</th>\n",
       "      <th>division_name</th>\n",
       "      <th>County</th>\n",
       "    </tr>\n",
       "  </thead>\n",
       "  <tbody>\n",
       "    <tr>\n",
       "      <th>0</th>\n",
       "      <td>55001</td>\n",
       "      <td>11806</td>\n",
       "      <td>Adams County</td>\n",
       "      <td>WI</td>\n",
       "      <td>Wisconsin</td>\n",
       "      <td>Adams County WI</td>\n",
       "      <td>50.0</td>\n",
       "      <td>2.0</td>\n",
       "      <td>3.0</td>\n",
       "      <td>55.0</td>\n",
       "      <td>1.0</td>\n",
       "      <td>2-3-55-1</td>\n",
       "      <td>Midwest</td>\n",
       "      <td>East North Central</td>\n",
       "      <td>ADAMS COUNTY</td>\n",
       "    </tr>\n",
       "    <tr>\n",
       "      <th>1</th>\n",
       "      <td>55003</td>\n",
       "      <td>8728</td>\n",
       "      <td>Ashland County</td>\n",
       "      <td>WI</td>\n",
       "      <td>Wisconsin</td>\n",
       "      <td>Ashland County WI</td>\n",
       "      <td>50.0</td>\n",
       "      <td>2.0</td>\n",
       "      <td>3.0</td>\n",
       "      <td>55.0</td>\n",
       "      <td>3.0</td>\n",
       "      <td>2-3-55-3</td>\n",
       "      <td>Midwest</td>\n",
       "      <td>East North Central</td>\n",
       "      <td>ASHLAND COUNTY</td>\n",
       "    </tr>\n",
       "    <tr>\n",
       "      <th>2</th>\n",
       "      <td>55005</td>\n",
       "      <td>25316</td>\n",
       "      <td>Barron County</td>\n",
       "      <td>WI</td>\n",
       "      <td>Wisconsin</td>\n",
       "      <td>Barron County WI</td>\n",
       "      <td>50.0</td>\n",
       "      <td>2.0</td>\n",
       "      <td>3.0</td>\n",
       "      <td>55.0</td>\n",
       "      <td>5.0</td>\n",
       "      <td>2-3-55-5</td>\n",
       "      <td>Midwest</td>\n",
       "      <td>East North Central</td>\n",
       "      <td>BARRON COUNTY</td>\n",
       "    </tr>\n",
       "  </tbody>\n",
       "</table>\n",
       "</div>"
      ],
      "text/plain": [
       "    fips  votes     county_name state_abbr state_name          long_name  \\\n",
       "0  55001  11806    Adams County         WI  Wisconsin    Adams County WI   \n",
       "1  55003   8728  Ashland County         WI  Wisconsin  Ashland County WI   \n",
       "2  55005  25316   Barron County         WI  Wisconsin   Barron County WI   \n",
       "\n",
       "   sumlev  region  division  state  county crosswalk region_name  \\\n",
       "0    50.0     2.0       3.0   55.0     1.0  2-3-55-1     Midwest   \n",
       "1    50.0     2.0       3.0   55.0     3.0  2-3-55-3     Midwest   \n",
       "2    50.0     2.0       3.0   55.0     5.0  2-3-55-5     Midwest   \n",
       "\n",
       "        division_name          County  \n",
       "0  East North Central    ADAMS COUNTY  \n",
       "1  East North Central  ASHLAND COUNTY  \n",
       "2  East North Central   BARRON COUNTY  "
      ]
     },
     "execution_count": 148,
     "metadata": {},
     "output_type": "execute_result"
    }
   ],
   "source": [
    "turn_out_per_county_df.head(3)"
   ]
  },
  {
   "cell_type": "code",
   "execution_count": 149,
   "metadata": {},
   "outputs": [],
   "source": [
    "turn_out_per_county_df = turn_out_per_county_df.merge(reg_voter_df, on='County', how='left')"
   ]
  },
  {
   "cell_type": "code",
   "execution_count": 150,
   "metadata": {},
   "outputs": [
    {
     "data": {
      "text/html": [
       "<div>\n",
       "<style scoped>\n",
       "    .dataframe tbody tr th:only-of-type {\n",
       "        vertical-align: middle;\n",
       "    }\n",
       "\n",
       "    .dataframe tbody tr th {\n",
       "        vertical-align: top;\n",
       "    }\n",
       "\n",
       "    .dataframe thead th {\n",
       "        text-align: right;\n",
       "    }\n",
       "</style>\n",
       "<table border=\"1\" class=\"dataframe\">\n",
       "  <thead>\n",
       "    <tr style=\"text-align: right;\">\n",
       "      <th></th>\n",
       "      <th>fips</th>\n",
       "      <th>votes</th>\n",
       "      <th>county_name</th>\n",
       "      <th>state_abbr</th>\n",
       "      <th>state_name</th>\n",
       "      <th>long_name</th>\n",
       "      <th>sumlev</th>\n",
       "      <th>region</th>\n",
       "      <th>division</th>\n",
       "      <th>state</th>\n",
       "      <th>county</th>\n",
       "      <th>crosswalk</th>\n",
       "      <th>region_name</th>\n",
       "      <th>division_name</th>\n",
       "      <th>County</th>\n",
       "      <th>CountyCode</th>\n",
       "      <th>Registered Voters</th>\n",
       "    </tr>\n",
       "  </thead>\n",
       "  <tbody>\n",
       "    <tr>\n",
       "      <th>0</th>\n",
       "      <td>55001</td>\n",
       "      <td>11806</td>\n",
       "      <td>Adams County</td>\n",
       "      <td>WI</td>\n",
       "      <td>Wisconsin</td>\n",
       "      <td>Adams County WI</td>\n",
       "      <td>50.0</td>\n",
       "      <td>2.0</td>\n",
       "      <td>3.0</td>\n",
       "      <td>55.0</td>\n",
       "      <td>1.0</td>\n",
       "      <td>2-3-55-1</td>\n",
       "      <td>Midwest</td>\n",
       "      <td>East North Central</td>\n",
       "      <td>ADAMS COUNTY</td>\n",
       "      <td>1</td>\n",
       "      <td>12805</td>\n",
       "    </tr>\n",
       "    <tr>\n",
       "      <th>1</th>\n",
       "      <td>55003</td>\n",
       "      <td>8728</td>\n",
       "      <td>Ashland County</td>\n",
       "      <td>WI</td>\n",
       "      <td>Wisconsin</td>\n",
       "      <td>Ashland County WI</td>\n",
       "      <td>50.0</td>\n",
       "      <td>2.0</td>\n",
       "      <td>3.0</td>\n",
       "      <td>55.0</td>\n",
       "      <td>3.0</td>\n",
       "      <td>2-3-55-3</td>\n",
       "      <td>Midwest</td>\n",
       "      <td>East North Central</td>\n",
       "      <td>ASHLAND COUNTY</td>\n",
       "      <td>2</td>\n",
       "      <td>9770</td>\n",
       "    </tr>\n",
       "    <tr>\n",
       "      <th>2</th>\n",
       "      <td>55005</td>\n",
       "      <td>25316</td>\n",
       "      <td>Barron County</td>\n",
       "      <td>WI</td>\n",
       "      <td>Wisconsin</td>\n",
       "      <td>Barron County WI</td>\n",
       "      <td>50.0</td>\n",
       "      <td>2.0</td>\n",
       "      <td>3.0</td>\n",
       "      <td>55.0</td>\n",
       "      <td>5.0</td>\n",
       "      <td>2-3-55-5</td>\n",
       "      <td>Midwest</td>\n",
       "      <td>East North Central</td>\n",
       "      <td>BARRON COUNTY</td>\n",
       "      <td>3</td>\n",
       "      <td>27632</td>\n",
       "    </tr>\n",
       "  </tbody>\n",
       "</table>\n",
       "</div>"
      ],
      "text/plain": [
       "    fips  votes     county_name state_abbr state_name          long_name  \\\n",
       "0  55001  11806    Adams County         WI  Wisconsin    Adams County WI   \n",
       "1  55003   8728  Ashland County         WI  Wisconsin  Ashland County WI   \n",
       "2  55005  25316   Barron County         WI  Wisconsin   Barron County WI   \n",
       "\n",
       "   sumlev  region  division  state  county crosswalk region_name  \\\n",
       "0    50.0     2.0       3.0   55.0     1.0  2-3-55-1     Midwest   \n",
       "1    50.0     2.0       3.0   55.0     3.0  2-3-55-3     Midwest   \n",
       "2    50.0     2.0       3.0   55.0     5.0  2-3-55-5     Midwest   \n",
       "\n",
       "        division_name          County  CountyCode  Registered Voters  \n",
       "0  East North Central    ADAMS COUNTY           1              12805  \n",
       "1  East North Central  ASHLAND COUNTY           2               9770  \n",
       "2  East North Central   BARRON COUNTY           3              27632  "
      ]
     },
     "execution_count": 150,
     "metadata": {},
     "output_type": "execute_result"
    }
   ],
   "source": [
    "turn_out_per_county_df.head(3)"
   ]
  },
  {
   "cell_type": "code",
   "execution_count": 151,
   "metadata": {},
   "outputs": [
    {
     "data": {
      "text/plain": [
       "fips                   int64\n",
       "votes                  int64\n",
       "county_name           object\n",
       "state_abbr            object\n",
       "state_name            object\n",
       "long_name             object\n",
       "sumlev               float64\n",
       "region               float64\n",
       "division             float64\n",
       "state                float64\n",
       "county               float64\n",
       "crosswalk             object\n",
       "region_name           object\n",
       "division_name         object\n",
       "County                object\n",
       "CountyCode             int64\n",
       "Registered Voters      int64\n",
       "dtype: object"
      ]
     },
     "execution_count": 151,
     "metadata": {},
     "output_type": "execute_result"
    }
   ],
   "source": [
    "turn_out_per_county_df.dtypes"
   ]
  },
  {
   "cell_type": "code",
   "execution_count": 152,
   "metadata": {},
   "outputs": [],
   "source": [
    "turn_out_per_county_df['turn_out'] = turn_out_per_county_df['votes'] / turn_out_per_county_df['Registered Voters']"
   ]
  },
  {
   "cell_type": "code",
   "execution_count": 153,
   "metadata": {},
   "outputs": [
    {
     "name": "stdout",
     "output_type": "stream",
     "text": [
      "           county_name   votes  Registered Voters  turn_out\n",
      "50        Price County    8642               9055  0.954390\n",
      "60       Taylor County   10678              11294  0.945458\n",
      "38    Marquette County    9050               9579  0.944775\n",
      "28       Juneau County   13683              14567  0.939315\n",
      "6       Burnett County   10138              10795  0.939138\n",
      "54         Rusk County    7879               8396  0.938423\n",
      "69     Waushara County   13564              14465  0.937712\n",
      "42       Oconto County   23211              24759  0.937477\n",
      "46        Pepin County    4138               4414  0.937472\n",
      "58      Shawano County   22878              24408  0.937316\n",
      "30     Kewaunee County   12066              12926  0.933467\n",
      "7       Calumet County   30797              33050  0.931831\n",
      "66   Washington County   88026              94481  0.931679\n",
      "19  Fond du Lac County   57193              61390  0.931634\n",
      "5       Buffalo County    7798               8405  0.927781\n",
      "32    Lafayette County    8547               9214  0.927610\n",
      "11     Crawford County    8695               9378  0.927170\n",
      "68      Waupaca County   29081              31369  0.927062\n",
      "22        Green County   21351              23061  0.925849\n",
      "48         Polk County   26318              28431  0.925680\n",
      "8      Chippewa County   35908              38859  0.924059\n",
      "23   Green Lake County   10644              11524  0.923638\n",
      "13        Dodge County   48415              52433  0.923369\n",
      "9         Clark County   14866              16113  0.922609\n",
      "24         Iowa County   13961              15136  0.922371\n",
      "3      Bayfield County   10876              11795  0.922086\n",
      "0         Adams County   11806              12805  0.921984\n",
      "52     Richland County    9005               9779  0.920851\n",
      "55    St. Croix County   56542              61464  0.919921\n",
      "14         Door County   20076              21826  0.919820\n",
      "45      Ozaukee County   61244              66641  0.919014\n",
      "43       Oneida County   24111              26248  0.918584\n",
      "41       Monroe County   22560              24565  0.918380\n",
      "65     Washburn County   10353              11278  0.917982\n",
      "61  Trempealeau County   15341              16714  0.917853\n",
      "67     Waukesha County  267159             291183  0.917495\n",
      "10     Columbia County   33847              36898  0.917313\n",
      "18     Florence County    2939               3205  0.917005\n",
      "34      Lincoln County   16496              18001  0.916394\n",
      "2        Barron County   25316              27632  0.916184\n",
      "62       Vernon County   15907              17364  0.916091\n",
      "21        Grant County   25333              27685  0.915044\n",
      "56         Sauk County   36172              39544  0.914728\n",
      "33     Langlade County   11156              12200  0.914426\n",
      "25         Iron County    4031               4412  0.913645\n",
      "35    Manitowoc County   44477              48688  0.913511\n",
      "27    Jefferson County   47860              52395  0.913446\n",
      "59    Sheboygan County   65855              72138  0.912903\n",
      "71         Wood County   41196              45206  0.911295\n",
      "44    Outagamie County  107956             118689  0.909570\n",
      "36     Marathon County   76603              84288  0.908825\n",
      "16         Dunn County   23526              25969  0.905926\n",
      "26      Jackson County   10179              11267  0.903435\n",
      "63        Vilas County   15338              17003  0.902076\n",
      "64     Walworth County   57441              63729  0.901332\n",
      "49      Portage County   40510              44977  0.900683\n",
      "15      Douglas County   24595              27308  0.900652\n",
      "57       Sawyer County   10463              11623  0.900198\n",
      "70    Winnebago County   93790             104233  0.899811\n",
      "37    Marinette County   22959              25527  0.899401\n",
      "47       Pierce County   23260              25910  0.897723\n",
      "1       Ashland County    8728               9770  0.893347\n",
      "17   Eau Claire County   58069              65337  0.888761\n",
      "4         Brown County  143623             162076  0.886146\n",
      "39    Menominee County    1585               1789  0.885970\n",
      "51       Racine County  106148             119988  0.884655\n",
      "29      Kenosha County   88467             100331  0.881751\n",
      "31    La Crosse County   67609              76830  0.879982\n",
      "12         Dane County  343599             390887  0.879024\n",
      "20       Forest County    5050               5761  0.876584\n",
      "53         Rock County   85150              97177  0.876236\n",
      "40    Milwaukee County  457318             557089  0.820907\n"
     ]
    }
   ],
   "source": [
    "pd.set_option('display.max_rows', None)\n",
    "print(turn_out_per_county_df[['county_name', 'votes', 'Registered Voters', 'turn_out']].sort_values('turn_out', ascending= False))"
   ]
  },
  {
   "cell_type": "code",
   "execution_count": null,
   "metadata": {},
   "outputs": [],
   "source": []
  }
 ],
 "metadata": {
  "kernelspec": {
   "display_name": "Python 3",
   "language": "python",
   "name": "python3"
  },
  "language_info": {
   "codemirror_mode": {
    "name": "ipython",
    "version": 3
   },
   "file_extension": ".py",
   "mimetype": "text/x-python",
   "name": "python",
   "nbconvert_exporter": "python",
   "pygments_lexer": "ipython3",
   "version": "3.6.9"
  }
 },
 "nbformat": 4,
 "nbformat_minor": 2
}
